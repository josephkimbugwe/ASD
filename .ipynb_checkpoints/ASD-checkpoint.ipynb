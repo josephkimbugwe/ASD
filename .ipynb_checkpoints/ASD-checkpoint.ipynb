{
 "cells": [
  {
   "cell_type": "code",
   "execution_count": 1,
   "id": "272381b0",
   "metadata": {},
   "outputs": [],
   "source": [
    "#loading the necessary packages\n",
    "import pandas as pd\n",
    "import numpy as np\n",
    "import matplotlib.pyplot as plt\n",
    "import seaborn as sns\n",
    "sns.set()\n",
    "import statsmodels.api as sm\n",
    "from sklearn.metrics import confusion_matrix, classification_report, accuracy_score \n",
    "from sklearn.model_selection import GridSearchCV, KFold, cross_val_score,learning_curve, ShuffleSplit, validation_curve, train_test_split\n",
    "from sklearn.preprocessing import StandardScaler\n",
    "from sklearn.tree import DecisionTreeClassifier\n",
    "from sklearn.neighbors import KNeighborsClassifier\n",
    "from sklearn.pipeline import Pipeline\n",
    "from sklearn.metrics import classification_report, accuracy_score\n",
    "from sklearn.ensemble import RandomForestClassifier\n",
    "from sklearn.linear_model import LogisticRegression\n",
    "from sklearn.model_selection import GridSearchCV, RandomizedSearchCV\n",
    "from sklearn import metrics\n",
    "from sklearn.metrics import confusion_matrix\n",
    "from sklearn.model_selection import cross_val_predict\n",
    "##Supress Warnings\n",
    "import warnings\n",
    "warnings.filterwarnings('ignore')\n",
    "np.random.seed(42)"
   ]
  },
  {
   "cell_type": "code",
   "execution_count": 2,
   "id": "b265778b",
   "metadata": {},
   "outputs": [],
   "source": [
    "data = pd.read_excel('Autism_Child_data_in_excel.xlsx')"
   ]
  },
  {
   "cell_type": "code",
   "execution_count": 3,
   "id": "db092a06",
   "metadata": {},
   "outputs": [
    {
     "data": {
      "text/plain": [
       "(292, 21)"
      ]
     },
     "execution_count": 3,
     "metadata": {},
     "output_type": "execute_result"
    }
   ],
   "source": [
    "data.shape"
   ]
  },
  {
   "cell_type": "code",
   "execution_count": 4,
   "id": "f50fd9f5",
   "metadata": {},
   "outputs": [
    {
     "name": "stdout",
     "output_type": "stream",
     "text": [
      "<class 'pandas.core.frame.DataFrame'>\n",
      "RangeIndex: 292 entries, 0 to 291\n",
      "Data columns (total 21 columns):\n",
      " #   Column           Non-Null Count  Dtype \n",
      "---  ------           --------------  ----- \n",
      " 0   age              292 non-null    object\n",
      " 1   gender           292 non-null    object\n",
      " 2   ethnicity        292 non-null    object\n",
      " 3   jundice          292 non-null    object\n",
      " 4   autism           292 non-null    object\n",
      " 5   relation         292 non-null    object\n",
      " 6   contry_of_res    292 non-null    object\n",
      " 7   used_app_before  292 non-null    object\n",
      " 8   age_desc         292 non-null    object\n",
      " 9   A1_Score         292 non-null    int64 \n",
      " 10  A2_Score         292 non-null    int64 \n",
      " 11  A3_Score         292 non-null    int64 \n",
      " 12  A4_Score         292 non-null    int64 \n",
      " 13  A5_Score         292 non-null    int64 \n",
      " 14  A6_Score         292 non-null    int64 \n",
      " 15  A7_Score         292 non-null    int64 \n",
      " 16  A8_Score         292 non-null    int64 \n",
      " 17  A9_Score         292 non-null    int64 \n",
      " 18  A10_Score        292 non-null    int64 \n",
      " 19  result           292 non-null    int64 \n",
      " 20  Class            292 non-null    object\n",
      "dtypes: int64(11), object(10)\n",
      "memory usage: 48.0+ KB\n"
     ]
    }
   ],
   "source": [
    "data.info()"
   ]
  },
  {
   "cell_type": "code",
   "execution_count": 5,
   "id": "19d48224",
   "metadata": {},
   "outputs": [
    {
     "name": "stdout",
     "output_type": "stream",
     "text": [
      "age [6 5 4 11 10 8 7 9 '?']\n",
      "gender ['m' 'f']\n",
      "ethnicity ['Others' \"'Middle Eastern '\" '?' 'White-European' \"Middle Eastern '\"\n",
      " 'Black' \"'South Asian'\" 'Asian' 'Pasifika' 'Hispanic' 'Turkish' 'Latino']\n",
      "jundice ['no' 'yes']\n",
      "autism ['no' 'yes']\n",
      "relation ['Parent' '?' 'Self' 'Relative' \"'Health care professional'\" 'self']\n",
      "contry_of_res ['Jordan' \"'United States'\" 'Egypt' \"'United Kingdom'\" 'Bahrain' 'Austria'\n",
      " 'Kuwait' \"'United Arab Emirates'\" 'Europe' 'Malta' 'Bulgaria'\n",
      " \"'South Africa'\" 'India' 'Afghanistan' 'Georgia' \"'New Zealand'\" 'Syria'\n",
      " 'Iraq' 'Australia' \"'Saudi Arabia'\" 'Armenia' 'Turkey' 'Pakistan'\n",
      " 'Canada' 'Oman' 'Brazil' \"'South Korea'\" \"'Costa Rica'\" 'Sweden'\n",
      " 'Philippines' 'Malaysia' 'Argentina' 'Japan' 'Bangladesh' 'Qatar'\n",
      " 'Ireland' 'Romania' 'Netherlands' 'Lebanon' 'Germany' 'Latvia' 'Russia'\n",
      " 'Italy' 'China' 'Nigeria' \"'U.S. Outlying Islands'\" 'Nepal' 'Mexico'\n",
      " \"'Isle of Man'\" 'Libya' 'Ghana' 'Bhutan']\n",
      "used_app_before ['no' 'yes']\n",
      "age_desc [\"'4-11 years'\"]\n",
      "Class ['NO' 'YES']\n"
     ]
    }
   ],
   "source": [
    "for feature in data.columns:\n",
    "    if data[feature].dtype==object:\n",
    "        print(feature,  data[feature].unique())"
   ]
  },
  {
   "cell_type": "markdown",
   "id": "9abbb01f",
   "metadata": {},
   "source": [
    "**Observations:** \n",
    "1. Features age, ethnicity and relations have observation with value '?'\n",
    "2. Features ethnicity, relation, contry_of_res and age_desc have observations surrounded by quotation marks\n",
    "3. Feature relation has a case conflict in the obsersvation 'Self' and 'self'\n",
    "4. Feature contry_of_res is a typo and so should be corrected to country_of_res\n",
    "5. Feature age is of type object and so we will need to change it to integer.\n"
   ]
  },
  {
   "cell_type": "code",
   "execution_count": 6,
   "id": "8b3ccdd2",
   "metadata": {},
   "outputs": [],
   "source": [
    "#dropping the observations with ? age\n",
    "data = data[data.age != '?']"
   ]
  },
  {
   "cell_type": "code",
   "execution_count": 7,
   "id": "eb543425",
   "metadata": {},
   "outputs": [
    {
     "data": {
      "text/plain": [
       "13.88888888888889"
      ]
     },
     "execution_count": 7,
     "metadata": {},
     "output_type": "execute_result"
    }
   ],
   "source": [
    "#percentage of observations in the ethnicity feature with value '?'\n",
    "len(data.query(\"ethnicity=='?'\"))/data.shape[0]*100"
   ]
  },
  {
   "cell_type": "code",
   "execution_count": 8,
   "id": "8a72020d",
   "metadata": {},
   "outputs": [
    {
     "data": {
      "text/plain": [
       "13.88888888888889"
      ]
     },
     "execution_count": 8,
     "metadata": {},
     "output_type": "execute_result"
    }
   ],
   "source": [
    "#percentage of observations in the relation feature with value '?'\n",
    "len(data.query(\"relation=='?'\"))/data.shape[0]*100"
   ]
  },
  {
   "cell_type": "markdown",
   "id": "3aaa89cf",
   "metadata": {},
   "source": [
    "**Observations:** Observations with '?' account for close to 14% for both ethnicity and relation feature which is pretty odd. We will need to ascertain whether these observatioin are the same and if dealing with them in one feature solves the problem in another."
   ]
  },
  {
   "cell_type": "code",
   "execution_count": 9,
   "id": "628741a8",
   "metadata": {},
   "outputs": [
    {
     "data": {
      "text/plain": [
       "2      ?\n",
       "3      ?\n",
       "5      ?\n",
       "9      ?\n",
       "11     ?\n",
       "19     ?\n",
       "21     ?\n",
       "24     ?\n",
       "28     ?\n",
       "36     ?\n",
       "40     ?\n",
       "43     ?\n",
       "47     ?\n",
       "50     ?\n",
       "52     ?\n",
       "54     ?\n",
       "56     ?\n",
       "68     ?\n",
       "110    ?\n",
       "123    ?\n",
       "146    ?\n",
       "149    ?\n",
       "160    ?\n",
       "168    ?\n",
       "174    ?\n",
       "180    ?\n",
       "181    ?\n",
       "190    ?\n",
       "194    ?\n",
       "212    ?\n",
       "231    ?\n",
       "232    ?\n",
       "233    ?\n",
       "235    ?\n",
       "242    ?\n",
       "243    ?\n",
       "244    ?\n",
       "249    ?\n",
       "251    ?\n",
       "268    ?\n",
       "Name: relation, dtype: object"
      ]
     },
     "execution_count": 9,
     "metadata": {},
     "output_type": "execute_result"
    }
   ],
   "source": [
    "#further investigating the observations with '?' for ethnicity and relation features\n",
    "data.query(\"ethnicity=='?'\")['relation']"
   ]
  },
  {
   "cell_type": "markdown",
   "id": "fd10f497",
   "metadata": {},
   "source": [
    "**Observations:** \n",
    "1. It turns out that we were right and that its the same observation for both features. Since this accounts for about 14% and we cannot ascertain the kids ethnicity as they are spread all over the world, it will be unreasonable to use their geographical location in further investigating their race. We shall therefore drop the observations."
   ]
  },
  {
   "cell_type": "code",
   "execution_count": 10,
   "id": "fbc634cd",
   "metadata": {},
   "outputs": [],
   "source": [
    "#dropping the observations with ? in ethnicity and relation features\n",
    "data = data[data.ethnicity != '?']"
   ]
  },
  {
   "cell_type": "code",
   "execution_count": 11,
   "id": "a837d522",
   "metadata": {},
   "outputs": [],
   "source": [
    "#correcting the case conflict in the relation feature\n",
    "data.relation.replace('self','Self', inplace=True)"
   ]
  },
  {
   "cell_type": "code",
   "execution_count": 12,
   "id": "87b85398",
   "metadata": {},
   "outputs": [
    {
     "name": "stdout",
     "output_type": "stream",
     "text": [
      "age [6 5 11 10 4 8 7 9]\n",
      "gender ['m' 'f']\n",
      "ethnicity ['Others' 'Middle Eastern ' 'White-European' 'Black' 'South Asian' 'Asian'\n",
      " 'Pasifika' 'Hispanic' 'Turkish' 'Latino']\n",
      "jundice ['no' 'yes']\n",
      "autism ['no' 'yes']\n",
      "relation ['Parent' 'Self' 'Relative' 'Health care professional']\n",
      "contry_of_res ['Jordan' 'United States' 'United Kingdom' 'Bahrain'\n",
      " 'United Arab Emirates' 'Europe' 'Malta' 'Bulgaria' 'South Africa' 'India'\n",
      " 'Afghanistan' 'Georgia' 'New Zealand' 'Syria' 'Iraq' 'Australia'\n",
      " 'Armenia' 'Turkey' 'Pakistan' 'Canada' 'Oman' 'Brazil' 'South Korea'\n",
      " 'Costa Rica' 'Sweden' 'Philippines' 'Malaysia' 'Argentina' 'Japan'\n",
      " 'Bangladesh' 'Ireland' 'Romania' 'Netherlands' 'Germany' 'Saudi Arabia'\n",
      " 'Austria' 'Italy' 'Nigeria' 'U.S. Outlying Islands' 'Nepal' 'Mexico'\n",
      " 'Isle of Man' 'Libya' 'Egypt' 'Ghana' 'Bhutan']\n",
      "used_app_before ['no' 'yes']\n",
      "age_desc ['4-11 years']\n",
      "A1_Score [1 0]\n",
      "A2_Score [1 0]\n",
      "A3_Score [0 1]\n",
      "A4_Score [0 1]\n",
      "A5_Score [1 0]\n",
      "A6_Score [1 0]\n",
      "A7_Score [0 1]\n",
      "A8_Score [1 0]\n",
      "A9_Score [0 1]\n",
      "A10_Score [0 1]\n",
      "result [ 5 10  7  8  9  2  1  3  6  4  0]\n",
      "Class ['NO' 'YES']\n"
     ]
    }
   ],
   "source": [
    "#dealing with the quotes issue for ethnicity, relation, contry_of_res and age_desc features\n",
    "for feature in data.columns:\n",
    "    if data[feature].dtype==object and feature != 'age':\n",
    "        data[feature] = data[feature].str.strip(\"'\")\n",
    "    print(feature,  data[feature].unique())"
   ]
  },
  {
   "cell_type": "code",
   "execution_count": 13,
   "id": "c0d167f4",
   "metadata": {},
   "outputs": [],
   "source": [
    "#dropping age_desc feature as it holds a single entry and this will not be very helpful with our analysis\n",
    "data.drop('age_desc', inplace=True, axis=1)"
   ]
  },
  {
   "cell_type": "code",
   "execution_count": 14,
   "id": "445b2e0a",
   "metadata": {},
   "outputs": [],
   "source": [
    "#changing age to type int\n",
    "data.age = data.age.astype('int64')"
   ]
  },
  {
   "cell_type": "code",
   "execution_count": 15,
   "id": "016f211e",
   "metadata": {},
   "outputs": [],
   "source": [
    "#correcting the typo in contry_of_res feature \n",
    "data.rename(columns={'contry_of_res':'country_of_res'}, inplace=True)"
   ]
  },
  {
   "cell_type": "code",
   "execution_count": 16,
   "id": "ae6ca046",
   "metadata": {},
   "outputs": [
    {
     "data": {
      "text/html": [
       "<div>\n",
       "<style scoped>\n",
       "    .dataframe tbody tr th:only-of-type {\n",
       "        vertical-align: middle;\n",
       "    }\n",
       "\n",
       "    .dataframe tbody tr th {\n",
       "        vertical-align: top;\n",
       "    }\n",
       "\n",
       "    .dataframe thead th {\n",
       "        text-align: right;\n",
       "    }\n",
       "</style>\n",
       "<table border=\"1\" class=\"dataframe\">\n",
       "  <thead>\n",
       "    <tr style=\"text-align: right;\">\n",
       "      <th></th>\n",
       "      <th>age</th>\n",
       "      <th>gender</th>\n",
       "      <th>ethnicity</th>\n",
       "      <th>jundice</th>\n",
       "      <th>autism</th>\n",
       "      <th>relation</th>\n",
       "      <th>country_of_res</th>\n",
       "      <th>used_app_before</th>\n",
       "      <th>A1_Score</th>\n",
       "      <th>A2_Score</th>\n",
       "      <th>A3_Score</th>\n",
       "      <th>A4_Score</th>\n",
       "      <th>A5_Score</th>\n",
       "      <th>A6_Score</th>\n",
       "      <th>A7_Score</th>\n",
       "      <th>A8_Score</th>\n",
       "      <th>A9_Score</th>\n",
       "      <th>A10_Score</th>\n",
       "      <th>result</th>\n",
       "      <th>Class</th>\n",
       "    </tr>\n",
       "  </thead>\n",
       "  <tbody>\n",
       "    <tr>\n",
       "      <th>84</th>\n",
       "      <td>4</td>\n",
       "      <td>m</td>\n",
       "      <td>Asian</td>\n",
       "      <td>no</td>\n",
       "      <td>no</td>\n",
       "      <td>Parent</td>\n",
       "      <td>India</td>\n",
       "      <td>no</td>\n",
       "      <td>0</td>\n",
       "      <td>0</td>\n",
       "      <td>1</td>\n",
       "      <td>0</td>\n",
       "      <td>1</td>\n",
       "      <td>1</td>\n",
       "      <td>1</td>\n",
       "      <td>0</td>\n",
       "      <td>1</td>\n",
       "      <td>1</td>\n",
       "      <td>6</td>\n",
       "      <td>NO</td>\n",
       "    </tr>\n",
       "    <tr>\n",
       "      <th>93</th>\n",
       "      <td>5</td>\n",
       "      <td>m</td>\n",
       "      <td>Asian</td>\n",
       "      <td>no</td>\n",
       "      <td>no</td>\n",
       "      <td>Parent</td>\n",
       "      <td>India</td>\n",
       "      <td>no</td>\n",
       "      <td>0</td>\n",
       "      <td>0</td>\n",
       "      <td>1</td>\n",
       "      <td>1</td>\n",
       "      <td>1</td>\n",
       "      <td>1</td>\n",
       "      <td>1</td>\n",
       "      <td>1</td>\n",
       "      <td>1</td>\n",
       "      <td>1</td>\n",
       "      <td>8</td>\n",
       "      <td>YES</td>\n",
       "    </tr>\n",
       "  </tbody>\n",
       "</table>\n",
       "</div>"
      ],
      "text/plain": [
       "    age gender ethnicity jundice autism relation country_of_res  \\\n",
       "84    4      m     Asian      no     no   Parent          India   \n",
       "93    5      m     Asian      no     no   Parent          India   \n",
       "\n",
       "   used_app_before  A1_Score  A2_Score  A3_Score  A4_Score  A5_Score  \\\n",
       "84              no         0         0         1         0         1   \n",
       "93              no         0         0         1         1         1   \n",
       "\n",
       "    A6_Score  A7_Score  A8_Score  A9_Score  A10_Score  result Class  \n",
       "84         1         1         0         1          1       6    NO  \n",
       "93         1         1         1         1          1       8   YES  "
      ]
     },
     "execution_count": 16,
     "metadata": {},
     "output_type": "execute_result"
    }
   ],
   "source": [
    "#checking for and dealing with duplicates\n",
    "data[data.duplicated()]"
   ]
  },
  {
   "cell_type": "markdown",
   "id": "fc6a5ab8",
   "metadata": {},
   "source": [
    "**Observations:** Turns out that we have 2 duplicate observations and so we shall drop them"
   ]
  },
  {
   "cell_type": "code",
   "execution_count": 17,
   "id": "07f40ff6",
   "metadata": {},
   "outputs": [],
   "source": [
    "#dropping the duplicates\n",
    "data.drop_duplicates(inplace=True)"
   ]
  },
  {
   "cell_type": "code",
   "execution_count": 18,
   "id": "0bfe8297",
   "metadata": {},
   "outputs": [
    {
     "name": "stdout",
     "output_type": "stream",
     "text": [
      "<class 'pandas.core.frame.DataFrame'>\n",
      "Int64Index: 246 entries, 0 to 291\n",
      "Data columns (total 20 columns):\n",
      " #   Column           Non-Null Count  Dtype \n",
      "---  ------           --------------  ----- \n",
      " 0   age              246 non-null    int64 \n",
      " 1   gender           246 non-null    object\n",
      " 2   ethnicity        246 non-null    object\n",
      " 3   jundice          246 non-null    object\n",
      " 4   autism           246 non-null    object\n",
      " 5   relation         246 non-null    object\n",
      " 6   country_of_res   246 non-null    object\n",
      " 7   used_app_before  246 non-null    object\n",
      " 8   A1_Score         246 non-null    int64 \n",
      " 9   A2_Score         246 non-null    int64 \n",
      " 10  A3_Score         246 non-null    int64 \n",
      " 11  A4_Score         246 non-null    int64 \n",
      " 12  A5_Score         246 non-null    int64 \n",
      " 13  A6_Score         246 non-null    int64 \n",
      " 14  A7_Score         246 non-null    int64 \n",
      " 15  A8_Score         246 non-null    int64 \n",
      " 16  A9_Score         246 non-null    int64 \n",
      " 17  A10_Score        246 non-null    int64 \n",
      " 18  result           246 non-null    int64 \n",
      " 19  Class            246 non-null    object\n",
      "dtypes: int64(12), object(8)\n",
      "memory usage: 40.4+ KB\n"
     ]
    }
   ],
   "source": [
    "data.info()"
   ]
  },
  {
   "cell_type": "code",
   "execution_count": 19,
   "id": "3c6a21d4",
   "metadata": {},
   "outputs": [
    {
     "data": {
      "text/html": [
       "<div>\n",
       "<style scoped>\n",
       "    .dataframe tbody tr th:only-of-type {\n",
       "        vertical-align: middle;\n",
       "    }\n",
       "\n",
       "    .dataframe tbody tr th {\n",
       "        vertical-align: top;\n",
       "    }\n",
       "\n",
       "    .dataframe thead th {\n",
       "        text-align: right;\n",
       "    }\n",
       "</style>\n",
       "<table border=\"1\" class=\"dataframe\">\n",
       "  <thead>\n",
       "    <tr style=\"text-align: right;\">\n",
       "      <th></th>\n",
       "      <th>age</th>\n",
       "      <th>A1_Score</th>\n",
       "      <th>A2_Score</th>\n",
       "      <th>A3_Score</th>\n",
       "      <th>A4_Score</th>\n",
       "      <th>A5_Score</th>\n",
       "      <th>A6_Score</th>\n",
       "      <th>A7_Score</th>\n",
       "      <th>A8_Score</th>\n",
       "      <th>A9_Score</th>\n",
       "      <th>A10_Score</th>\n",
       "      <th>result</th>\n",
       "    </tr>\n",
       "  </thead>\n",
       "  <tbody>\n",
       "    <tr>\n",
       "      <th>count</th>\n",
       "      <td>246.000000</td>\n",
       "      <td>246.000000</td>\n",
       "      <td>246.000000</td>\n",
       "      <td>246.000000</td>\n",
       "      <td>246.000000</td>\n",
       "      <td>246.000000</td>\n",
       "      <td>246.000000</td>\n",
       "      <td>246.000000</td>\n",
       "      <td>246.000000</td>\n",
       "      <td>246.000000</td>\n",
       "      <td>246.000000</td>\n",
       "      <td>246.000000</td>\n",
       "    </tr>\n",
       "    <tr>\n",
       "      <th>mean</th>\n",
       "      <td>6.443089</td>\n",
       "      <td>0.691057</td>\n",
       "      <td>0.520325</td>\n",
       "      <td>0.743902</td>\n",
       "      <td>0.573171</td>\n",
       "      <td>0.752033</td>\n",
       "      <td>0.711382</td>\n",
       "      <td>0.621951</td>\n",
       "      <td>0.479675</td>\n",
       "      <td>0.536585</td>\n",
       "      <td>0.731707</td>\n",
       "      <td>6.361789</td>\n",
       "    </tr>\n",
       "    <tr>\n",
       "      <th>std</th>\n",
       "      <td>2.389350</td>\n",
       "      <td>0.463000</td>\n",
       "      <td>0.500605</td>\n",
       "      <td>0.437366</td>\n",
       "      <td>0.495625</td>\n",
       "      <td>0.432713</td>\n",
       "      <td>0.454044</td>\n",
       "      <td>0.485888</td>\n",
       "      <td>0.500605</td>\n",
       "      <td>0.499676</td>\n",
       "      <td>0.443974</td>\n",
       "      <td>2.349816</td>\n",
       "    </tr>\n",
       "    <tr>\n",
       "      <th>min</th>\n",
       "      <td>4.000000</td>\n",
       "      <td>0.000000</td>\n",
       "      <td>0.000000</td>\n",
       "      <td>0.000000</td>\n",
       "      <td>0.000000</td>\n",
       "      <td>0.000000</td>\n",
       "      <td>0.000000</td>\n",
       "      <td>0.000000</td>\n",
       "      <td>0.000000</td>\n",
       "      <td>0.000000</td>\n",
       "      <td>0.000000</td>\n",
       "      <td>0.000000</td>\n",
       "    </tr>\n",
       "    <tr>\n",
       "      <th>25%</th>\n",
       "      <td>4.000000</td>\n",
       "      <td>0.000000</td>\n",
       "      <td>0.000000</td>\n",
       "      <td>0.000000</td>\n",
       "      <td>0.000000</td>\n",
       "      <td>1.000000</td>\n",
       "      <td>0.000000</td>\n",
       "      <td>0.000000</td>\n",
       "      <td>0.000000</td>\n",
       "      <td>0.000000</td>\n",
       "      <td>0.000000</td>\n",
       "      <td>5.000000</td>\n",
       "    </tr>\n",
       "    <tr>\n",
       "      <th>50%</th>\n",
       "      <td>6.000000</td>\n",
       "      <td>1.000000</td>\n",
       "      <td>1.000000</td>\n",
       "      <td>1.000000</td>\n",
       "      <td>1.000000</td>\n",
       "      <td>1.000000</td>\n",
       "      <td>1.000000</td>\n",
       "      <td>1.000000</td>\n",
       "      <td>0.000000</td>\n",
       "      <td>1.000000</td>\n",
       "      <td>1.000000</td>\n",
       "      <td>7.000000</td>\n",
       "    </tr>\n",
       "    <tr>\n",
       "      <th>75%</th>\n",
       "      <td>8.000000</td>\n",
       "      <td>1.000000</td>\n",
       "      <td>1.000000</td>\n",
       "      <td>1.000000</td>\n",
       "      <td>1.000000</td>\n",
       "      <td>1.000000</td>\n",
       "      <td>1.000000</td>\n",
       "      <td>1.000000</td>\n",
       "      <td>1.000000</td>\n",
       "      <td>1.000000</td>\n",
       "      <td>1.000000</td>\n",
       "      <td>8.000000</td>\n",
       "    </tr>\n",
       "    <tr>\n",
       "      <th>max</th>\n",
       "      <td>11.000000</td>\n",
       "      <td>1.000000</td>\n",
       "      <td>1.000000</td>\n",
       "      <td>1.000000</td>\n",
       "      <td>1.000000</td>\n",
       "      <td>1.000000</td>\n",
       "      <td>1.000000</td>\n",
       "      <td>1.000000</td>\n",
       "      <td>1.000000</td>\n",
       "      <td>1.000000</td>\n",
       "      <td>1.000000</td>\n",
       "      <td>10.000000</td>\n",
       "    </tr>\n",
       "  </tbody>\n",
       "</table>\n",
       "</div>"
      ],
      "text/plain": [
       "              age    A1_Score    A2_Score    A3_Score    A4_Score    A5_Score  \\\n",
       "count  246.000000  246.000000  246.000000  246.000000  246.000000  246.000000   \n",
       "mean     6.443089    0.691057    0.520325    0.743902    0.573171    0.752033   \n",
       "std      2.389350    0.463000    0.500605    0.437366    0.495625    0.432713   \n",
       "min      4.000000    0.000000    0.000000    0.000000    0.000000    0.000000   \n",
       "25%      4.000000    0.000000    0.000000    0.000000    0.000000    1.000000   \n",
       "50%      6.000000    1.000000    1.000000    1.000000    1.000000    1.000000   \n",
       "75%      8.000000    1.000000    1.000000    1.000000    1.000000    1.000000   \n",
       "max     11.000000    1.000000    1.000000    1.000000    1.000000    1.000000   \n",
       "\n",
       "         A6_Score    A7_Score    A8_Score    A9_Score   A10_Score      result  \n",
       "count  246.000000  246.000000  246.000000  246.000000  246.000000  246.000000  \n",
       "mean     0.711382    0.621951    0.479675    0.536585    0.731707    6.361789  \n",
       "std      0.454044    0.485888    0.500605    0.499676    0.443974    2.349816  \n",
       "min      0.000000    0.000000    0.000000    0.000000    0.000000    0.000000  \n",
       "25%      0.000000    0.000000    0.000000    0.000000    0.000000    5.000000  \n",
       "50%      1.000000    1.000000    0.000000    1.000000    1.000000    7.000000  \n",
       "75%      1.000000    1.000000    1.000000    1.000000    1.000000    8.000000  \n",
       "max      1.000000    1.000000    1.000000    1.000000    1.000000   10.000000  "
      ]
     },
     "execution_count": 19,
     "metadata": {},
     "output_type": "execute_result"
    }
   ],
   "source": [
    "data.describe()"
   ]
  },
  {
   "cell_type": "code",
   "execution_count": 20,
   "id": "8b28b43f",
   "metadata": {},
   "outputs": [],
   "source": [
    "# Mapping binary values, '0' and '1' to the binary category variables\n",
    "\n",
    "data['gender'] = data['gender'].map({'m': 1, 'f': 0})\n",
    "data['jundice'] = data['jundice'].map({'yes': 1, 'no': 0})\n",
    "data['autism'] = data['autism'].map({'yes': 1, 'no': 0})\n",
    "data['used_app_before'] = data['used_app_before'].map({'yes': 1, 'no': 0})\n",
    "data['Class'] = data['Class'].map({'YES': 1, 'NO': 0})"
   ]
  },
  {
   "cell_type": "code",
   "execution_count": 21,
   "id": "c54ebdf6",
   "metadata": {},
   "outputs": [
    {
     "data": {
      "image/png": "[encoded data removed]",
      "text/plain": [
       "<Figure size 1500x1000 with 20 Axes>"
      ]
     },
     "metadata": {},
     "output_type": "display_data"
    }
   ],
   "source": [
    "features = data.columns\n",
    "# Create subplots in a 5x4 grid\n",
    "fig, axes = plt.subplots(5,4 , figsize=(15, 10))\n",
    "axes = axes.flatten()\n",
    "# Iterate through unique regions and plot consumption data\n",
    "for i, feature in enumerate(features):\n",
    "    if i < 20:\n",
    "        ax = axes[i]\n",
    "        ax.hist(data[feature],label=feature, color='blue')\n",
    "        ax.set_xlabel('frequency')\n",
    "        ax.set_title(f'Distribution of {feature}')\n",
    "\n",
    "plt.tight_layout()\n",
    "plt.show()"
   ]
  },
  {
   "cell_type": "markdown",
   "id": "73c11327",
   "metadata": {},
   "source": [
    "**Observations:** \n",
    "1. We can see that the age, ethnicity, country_of_res and result features are skewed and so we might have to transform them based off results from further investigation.\n",
    "2. The Class distribution is fairly proportional and as such we shall consider it balanced"
   ]
  },
  {
   "cell_type": "code",
   "execution_count": 22,
   "id": "46e7a230",
   "metadata": {},
   "outputs": [],
   "source": [
    "# onehot enconding the remaining object dtype variables\n",
    "data = pd.get_dummies(data, drop_first=False)"
   ]
  },
  {
   "cell_type": "code",
   "execution_count": 23,
   "id": "060b621d",
   "metadata": {},
   "outputs": [
    {
     "data": {
      "text/html": [
       "<div>\n",
       "<style scoped>\n",
       "    .dataframe tbody tr th:only-of-type {\n",
       "        vertical-align: middle;\n",
       "    }\n",
       "\n",
       "    .dataframe tbody tr th {\n",
       "        vertical-align: top;\n",
       "    }\n",
       "\n",
       "    .dataframe thead th {\n",
       "        text-align: right;\n",
       "    }\n",
       "</style>\n",
       "<table border=\"1\" class=\"dataframe\">\n",
       "  <thead>\n",
       "    <tr style=\"text-align: right;\">\n",
       "      <th></th>\n",
       "      <th>age</th>\n",
       "      <th>gender</th>\n",
       "      <th>jundice</th>\n",
       "      <th>autism</th>\n",
       "      <th>used_app_before</th>\n",
       "      <th>A1_Score</th>\n",
       "      <th>A2_Score</th>\n",
       "      <th>A3_Score</th>\n",
       "      <th>A4_Score</th>\n",
       "      <th>A5_Score</th>\n",
       "      <th>...</th>\n",
       "      <th>country_of_res_Saudi Arabia</th>\n",
       "      <th>country_of_res_South Africa</th>\n",
       "      <th>country_of_res_South Korea</th>\n",
       "      <th>country_of_res_Sweden</th>\n",
       "      <th>country_of_res_Syria</th>\n",
       "      <th>country_of_res_Turkey</th>\n",
       "      <th>country_of_res_U.S. Outlying Islands</th>\n",
       "      <th>country_of_res_United Arab Emirates</th>\n",
       "      <th>country_of_res_United Kingdom</th>\n",
       "      <th>country_of_res_United States</th>\n",
       "    </tr>\n",
       "  </thead>\n",
       "  <tbody>\n",
       "    <tr>\n",
       "      <th>0</th>\n",
       "      <td>6</td>\n",
       "      <td>1</td>\n",
       "      <td>0</td>\n",
       "      <td>0</td>\n",
       "      <td>0</td>\n",
       "      <td>1</td>\n",
       "      <td>1</td>\n",
       "      <td>0</td>\n",
       "      <td>0</td>\n",
       "      <td>1</td>\n",
       "      <td>...</td>\n",
       "      <td>0</td>\n",
       "      <td>0</td>\n",
       "      <td>0</td>\n",
       "      <td>0</td>\n",
       "      <td>0</td>\n",
       "      <td>0</td>\n",
       "      <td>0</td>\n",
       "      <td>0</td>\n",
       "      <td>0</td>\n",
       "      <td>0</td>\n",
       "    </tr>\n",
       "    <tr>\n",
       "      <th>1</th>\n",
       "      <td>6</td>\n",
       "      <td>1</td>\n",
       "      <td>0</td>\n",
       "      <td>0</td>\n",
       "      <td>0</td>\n",
       "      <td>1</td>\n",
       "      <td>1</td>\n",
       "      <td>0</td>\n",
       "      <td>0</td>\n",
       "      <td>1</td>\n",
       "      <td>...</td>\n",
       "      <td>0</td>\n",
       "      <td>0</td>\n",
       "      <td>0</td>\n",
       "      <td>0</td>\n",
       "      <td>0</td>\n",
       "      <td>0</td>\n",
       "      <td>0</td>\n",
       "      <td>0</td>\n",
       "      <td>0</td>\n",
       "      <td>0</td>\n",
       "    </tr>\n",
       "    <tr>\n",
       "      <th>4</th>\n",
       "      <td>5</td>\n",
       "      <td>1</td>\n",
       "      <td>1</td>\n",
       "      <td>0</td>\n",
       "      <td>0</td>\n",
       "      <td>1</td>\n",
       "      <td>1</td>\n",
       "      <td>1</td>\n",
       "      <td>1</td>\n",
       "      <td>1</td>\n",
       "      <td>...</td>\n",
       "      <td>0</td>\n",
       "      <td>0</td>\n",
       "      <td>0</td>\n",
       "      <td>0</td>\n",
       "      <td>0</td>\n",
       "      <td>0</td>\n",
       "      <td>0</td>\n",
       "      <td>0</td>\n",
       "      <td>0</td>\n",
       "      <td>1</td>\n",
       "    </tr>\n",
       "    <tr>\n",
       "      <th>6</th>\n",
       "      <td>5</td>\n",
       "      <td>1</td>\n",
       "      <td>0</td>\n",
       "      <td>0</td>\n",
       "      <td>0</td>\n",
       "      <td>1</td>\n",
       "      <td>0</td>\n",
       "      <td>1</td>\n",
       "      <td>1</td>\n",
       "      <td>1</td>\n",
       "      <td>...</td>\n",
       "      <td>0</td>\n",
       "      <td>0</td>\n",
       "      <td>0</td>\n",
       "      <td>0</td>\n",
       "      <td>0</td>\n",
       "      <td>0</td>\n",
       "      <td>0</td>\n",
       "      <td>0</td>\n",
       "      <td>1</td>\n",
       "      <td>0</td>\n",
       "    </tr>\n",
       "    <tr>\n",
       "      <th>7</th>\n",
       "      <td>5</td>\n",
       "      <td>0</td>\n",
       "      <td>0</td>\n",
       "      <td>0</td>\n",
       "      <td>0</td>\n",
       "      <td>1</td>\n",
       "      <td>1</td>\n",
       "      <td>1</td>\n",
       "      <td>1</td>\n",
       "      <td>1</td>\n",
       "      <td>...</td>\n",
       "      <td>0</td>\n",
       "      <td>0</td>\n",
       "      <td>0</td>\n",
       "      <td>0</td>\n",
       "      <td>0</td>\n",
       "      <td>0</td>\n",
       "      <td>0</td>\n",
       "      <td>0</td>\n",
       "      <td>0</td>\n",
       "      <td>0</td>\n",
       "    </tr>\n",
       "    <tr>\n",
       "      <th>...</th>\n",
       "      <td>...</td>\n",
       "      <td>...</td>\n",
       "      <td>...</td>\n",
       "      <td>...</td>\n",
       "      <td>...</td>\n",
       "      <td>...</td>\n",
       "      <td>...</td>\n",
       "      <td>...</td>\n",
       "      <td>...</td>\n",
       "      <td>...</td>\n",
       "      <td>...</td>\n",
       "      <td>...</td>\n",
       "      <td>...</td>\n",
       "      <td>...</td>\n",
       "      <td>...</td>\n",
       "      <td>...</td>\n",
       "      <td>...</td>\n",
       "      <td>...</td>\n",
       "      <td>...</td>\n",
       "      <td>...</td>\n",
       "      <td>...</td>\n",
       "    </tr>\n",
       "    <tr>\n",
       "      <th>287</th>\n",
       "      <td>7</td>\n",
       "      <td>0</td>\n",
       "      <td>1</td>\n",
       "      <td>1</td>\n",
       "      <td>0</td>\n",
       "      <td>1</td>\n",
       "      <td>1</td>\n",
       "      <td>1</td>\n",
       "      <td>1</td>\n",
       "      <td>1</td>\n",
       "      <td>...</td>\n",
       "      <td>0</td>\n",
       "      <td>0</td>\n",
       "      <td>0</td>\n",
       "      <td>0</td>\n",
       "      <td>0</td>\n",
       "      <td>0</td>\n",
       "      <td>0</td>\n",
       "      <td>0</td>\n",
       "      <td>1</td>\n",
       "      <td>0</td>\n",
       "    </tr>\n",
       "    <tr>\n",
       "      <th>288</th>\n",
       "      <td>7</td>\n",
       "      <td>0</td>\n",
       "      <td>1</td>\n",
       "      <td>1</td>\n",
       "      <td>0</td>\n",
       "      <td>1</td>\n",
       "      <td>0</td>\n",
       "      <td>0</td>\n",
       "      <td>0</td>\n",
       "      <td>1</td>\n",
       "      <td>...</td>\n",
       "      <td>0</td>\n",
       "      <td>0</td>\n",
       "      <td>0</td>\n",
       "      <td>0</td>\n",
       "      <td>0</td>\n",
       "      <td>0</td>\n",
       "      <td>0</td>\n",
       "      <td>0</td>\n",
       "      <td>0</td>\n",
       "      <td>0</td>\n",
       "    </tr>\n",
       "    <tr>\n",
       "      <th>289</th>\n",
       "      <td>4</td>\n",
       "      <td>1</td>\n",
       "      <td>0</td>\n",
       "      <td>0</td>\n",
       "      <td>0</td>\n",
       "      <td>1</td>\n",
       "      <td>0</td>\n",
       "      <td>1</td>\n",
       "      <td>1</td>\n",
       "      <td>1</td>\n",
       "      <td>...</td>\n",
       "      <td>0</td>\n",
       "      <td>0</td>\n",
       "      <td>0</td>\n",
       "      <td>0</td>\n",
       "      <td>0</td>\n",
       "      <td>0</td>\n",
       "      <td>0</td>\n",
       "      <td>0</td>\n",
       "      <td>0</td>\n",
       "      <td>0</td>\n",
       "    </tr>\n",
       "    <tr>\n",
       "      <th>290</th>\n",
       "      <td>4</td>\n",
       "      <td>1</td>\n",
       "      <td>0</td>\n",
       "      <td>0</td>\n",
       "      <td>0</td>\n",
       "      <td>1</td>\n",
       "      <td>1</td>\n",
       "      <td>1</td>\n",
       "      <td>0</td>\n",
       "      <td>1</td>\n",
       "      <td>...</td>\n",
       "      <td>0</td>\n",
       "      <td>0</td>\n",
       "      <td>0</td>\n",
       "      <td>0</td>\n",
       "      <td>0</td>\n",
       "      <td>0</td>\n",
       "      <td>0</td>\n",
       "      <td>0</td>\n",
       "      <td>0</td>\n",
       "      <td>0</td>\n",
       "    </tr>\n",
       "    <tr>\n",
       "      <th>291</th>\n",
       "      <td>4</td>\n",
       "      <td>0</td>\n",
       "      <td>0</td>\n",
       "      <td>0</td>\n",
       "      <td>0</td>\n",
       "      <td>0</td>\n",
       "      <td>0</td>\n",
       "      <td>1</td>\n",
       "      <td>0</td>\n",
       "      <td>1</td>\n",
       "      <td>...</td>\n",
       "      <td>0</td>\n",
       "      <td>0</td>\n",
       "      <td>0</td>\n",
       "      <td>0</td>\n",
       "      <td>0</td>\n",
       "      <td>0</td>\n",
       "      <td>0</td>\n",
       "      <td>0</td>\n",
       "      <td>0</td>\n",
       "      <td>0</td>\n",
       "    </tr>\n",
       "  </tbody>\n",
       "</table>\n",
       "<p>246 rows × 77 columns</p>\n",
       "</div>"
      ],
      "text/plain": [
       "     age  gender  jundice  autism  used_app_before  A1_Score  A2_Score  \\\n",
       "0      6       1        0       0                0         1         1   \n",
       "1      6       1        0       0                0         1         1   \n",
       "4      5       1        1       0                0         1         1   \n",
       "6      5       1        0       0                0         1         0   \n",
       "7      5       0        0       0                0         1         1   \n",
       "..   ...     ...      ...     ...              ...       ...       ...   \n",
       "287    7       0        1       1                0         1         1   \n",
       "288    7       0        1       1                0         1         0   \n",
       "289    4       1        0       0                0         1         0   \n",
       "290    4       1        0       0                0         1         1   \n",
       "291    4       0        0       0                0         0         0   \n",
       "\n",
       "     A3_Score  A4_Score  A5_Score  ...  country_of_res_Saudi Arabia  \\\n",
       "0           0         0         1  ...                            0   \n",
       "1           0         0         1  ...                            0   \n",
       "4           1         1         1  ...                            0   \n",
       "6           1         1         1  ...                            0   \n",
       "7           1         1         1  ...                            0   \n",
       "..        ...       ...       ...  ...                          ...   \n",
       "287         1         1         1  ...                            0   \n",
       "288         0         0         1  ...                            0   \n",
       "289         1         1         1  ...                            0   \n",
       "290         1         0         1  ...                            0   \n",
       "291         1         0         1  ...                            0   \n",
       "\n",
       "     country_of_res_South Africa  country_of_res_South Korea  \\\n",
       "0                              0                           0   \n",
       "1                              0                           0   \n",
       "4                              0                           0   \n",
       "6                              0                           0   \n",
       "7                              0                           0   \n",
       "..                           ...                         ...   \n",
       "287                            0                           0   \n",
       "288                            0                           0   \n",
       "289                            0                           0   \n",
       "290                            0                           0   \n",
       "291                            0                           0   \n",
       "\n",
       "     country_of_res_Sweden  country_of_res_Syria  country_of_res_Turkey  \\\n",
       "0                        0                     0                      0   \n",
       "1                        0                     0                      0   \n",
       "4                        0                     0                      0   \n",
       "6                        0                     0                      0   \n",
       "7                        0                     0                      0   \n",
       "..                     ...                   ...                    ...   \n",
       "287                      0                     0                      0   \n",
       "288                      0                     0                      0   \n",
       "289                      0                     0                      0   \n",
       "290                      0                     0                      0   \n",
       "291                      0                     0                      0   \n",
       "\n",
       "     country_of_res_U.S. Outlying Islands  \\\n",
       "0                                       0   \n",
       "1                                       0   \n",
       "4                                       0   \n",
       "6                                       0   \n",
       "7                                       0   \n",
       "..                                    ...   \n",
       "287                                     0   \n",
       "288                                     0   \n",
       "289                                     0   \n",
       "290                                     0   \n",
       "291                                     0   \n",
       "\n",
       "     country_of_res_United Arab Emirates  country_of_res_United Kingdom  \\\n",
       "0                                      0                              0   \n",
       "1                                      0                              0   \n",
       "4                                      0                              0   \n",
       "6                                      0                              1   \n",
       "7                                      0                              0   \n",
       "..                                   ...                            ...   \n",
       "287                                    0                              1   \n",
       "288                                    0                              0   \n",
       "289                                    0                              0   \n",
       "290                                    0                              0   \n",
       "291                                    0                              0   \n",
       "\n",
       "     country_of_res_United States  \n",
       "0                               0  \n",
       "1                               0  \n",
       "4                               1  \n",
       "6                               0  \n",
       "7                               0  \n",
       "..                            ...  \n",
       "287                             0  \n",
       "288                             0  \n",
       "289                             0  \n",
       "290                             0  \n",
       "291                             0  \n",
       "\n",
       "[246 rows x 77 columns]"
      ]
     },
     "execution_count": 23,
     "metadata": {},
     "output_type": "execute_result"
    }
   ],
   "source": [
    "data"
   ]
  },
  {
   "cell_type": "code",
   "execution_count": 24,
   "id": "d0e2a695",
   "metadata": {},
   "outputs": [],
   "source": [
    "# #investigating the correlation between the question features and the result variable\n",
    "# questions = data[['A1_Score','A2_Score', 'A3_Score', 'A4_Score', 'A5_Score', 'A6_Score', 'A7_Score',\n",
    "#        'A8_Score', 'A9_Score', 'A10_Score', 'result']]\n",
    "# correlation_matrix = questions.corr()"
   ]
  },
  {
   "cell_type": "code",
   "execution_count": 25,
   "id": "163021e9",
   "metadata": {},
   "outputs": [],
   "source": [
    "# #plotting the correlation matrix on a heatmap\n",
    "# plt.subplots(figsize=(15,10))\n",
    "# sns.heatmap(correlation_matrix, annot=True).set(title=\"A heatmap showing feature correlation with the dependent variable\");"
   ]
  },
  {
   "cell_type": "code",
   "execution_count": 26,
   "id": "035d7c95",
   "metadata": {},
   "outputs": [],
   "source": [
    "# **Observation:** We can see that features A1_Score, A2_Score, A3_Score, A4_Score, A5_Score, A6_Score, A7_Score,\n",
    "#        A8_Score, A9_Score, and A10_Score are on average strongly correlated with the result. This is most likely a sign of multicollinearity and so we shall drop the result feature. "
   ]
  },
  {
   "cell_type": "code",
   "execution_count": 27,
   "id": "20759955",
   "metadata": {},
   "outputs": [],
   "source": [
    "# #dropping the 'result' feature\n",
    "# data.drop('result', inplace=True, axis=1)"
   ]
  },
  {
   "cell_type": "code",
   "execution_count": 28,
   "id": "03a60700",
   "metadata": {},
   "outputs": [],
   "source": [
    "#Attribute selection\n",
    "X = data.drop('Class', axis=1)\n",
    "y = data['Class']"
   ]
  },
  {
   "cell_type": "code",
   "execution_count": 29,
   "id": "7306f3fe",
   "metadata": {},
   "outputs": [
    {
     "data": {
      "text/plain": [
       "['result',\n",
       " 'ethnicity_Hispanic',\n",
       " 'A6_Score',\n",
       " 'A4_Score',\n",
       " 'A10_Score',\n",
       " 'country_of_res_Bahrain']"
      ]
     },
     "execution_count": 29,
     "metadata": {},
     "output_type": "execute_result"
    }
   ],
   "source": [
    "#conducting feature selection using forward stepwise regression\n",
    "#function sourced from https://github.com/AakkashVijayakumar/stepwise-regression/blob/master/stepwise_regression/step_reg.py\n",
    "def forward_regression(X, y,\n",
    "                       threshold_in,\n",
    "                       verbose=False):\n",
    "    initial_list = []\n",
    "    included = list(initial_list)\n",
    "    while True:\n",
    "        changed=False\n",
    "        excluded = list(set(X.columns)-set(included))\n",
    "        new_pval = pd.Series(index=excluded)\n",
    "        for new_column in excluded:\n",
    "            model = sm.OLS(y, sm.add_constant(pd.DataFrame(X[included+[new_column]]))).fit()\n",
    "            new_pval[new_column] = model.pvalues[new_column]\n",
    "        best_pval = new_pval.min()\n",
    "        if best_pval < threshold_in:\n",
    "            best_feature = new_pval.idxmin()\n",
    "            included.append(best_feature)\n",
    "            changed=True\n",
    "            if verbose:\n",
    "                print('Add  {:30} with p-value {:.6}'.format(best_feature, best_pval))\n",
    "\n",
    "        if not changed:\n",
    "            break\n",
    "\n",
    "    return included\n",
    "\n",
    "forward_regression(X,y,0.05)"
   ]
  },
  {
   "cell_type": "code",
   "execution_count": 30,
   "id": "b1bd40e7",
   "metadata": {},
   "outputs": [],
   "source": [
    "inner_cv = KFold(n_splits=5, shuffle=True) # inner cross-validation folds\n",
    "outer_cv = KFold(n_splits=5, shuffle=True) # outer cross-validation folds"
   ]
  },
  {
   "cell_type": "code",
   "execution_count": 31,
   "id": "d218dd89",
   "metadata": {},
   "outputs": [
    {
     "name": "stdout",
     "output_type": "stream",
     "text": [
      "\n",
      "Parameter tunning and model evaluation using nested cross-validation for the Decision Tree classifier\n",
      "Optimal Parameter:  {'criterion': 'gini', 'max_depth': 1, 'min_samples_leaf': 1, 'min_samples_split': 2}\n",
      "Optimal Estimator:  DecisionTreeClassifier(max_depth=1, random_state=42)\n",
      "Nested CV Recall:  1.0  +/-  0.0\n"
     ]
    }
   ],
   "source": [
    "#Decision tree classifier\n",
    "# Choosing depth of the tree AND splitting criterion AND min_samples_leaf AND min_samples_split\n",
    "gs_dt2 = GridSearchCV(estimator=DecisionTreeClassifier(random_state=42),\n",
    "                  param_grid=[{'max_depth': [1, 2, 3, 4, 5, 6, 7, None],\n",
    "                               'criterion':['gini','entropy'],\n",
    "                               'min_samples_leaf':[1,2,3,4,5],\n",
    "                               'min_samples_split':[2,3,4,5]\n",
    "                            }\n",
    "                             ],\n",
    "                  scoring='recall',\n",
    "                  cv=inner_cv,\n",
    "                  n_jobs=4)\n",
    "\n",
    "gs_dt2 = gs_dt2.fit(X,y)\n",
    "print(\"\\nParameter tunning and model evaluation using nested cross-validation for the Decision Tree classifier\")\n",
    "print(\"Optimal Parameter: \", gs_dt2.best_params_)\n",
    "print(\"Optimal Estimator: \", gs_dt2.best_estimator_)\n",
    "nested_score_gs_dt2 = cross_val_score(gs_dt2, X=X, y=y, cv=outer_cv)\n",
    "print(\"Nested CV Recall: \",nested_score_gs_dt2.mean(), \" +/- \", nested_score_gs_dt2.std())"
   ]
  },
  {
   "cell_type": "code",
   "execution_count": 32,
   "id": "55c902ad",
   "metadata": {},
   "outputs": [
    {
     "name": "stdout",
     "output_type": "stream",
     "text": [
      "\n",
      "Parameter tunning and model evaluation using nested cross-validation for Logistic Regression\n",
      "Optimal Parameter:  {'C': 10, 'penalty': 'l1'}\n",
      "Optimal Estimator:  LogisticRegression(C=10, penalty='l1', random_state=42, solver='liblinear')\n",
      "Nested CV Recall: 1.0  +/-  0.0\n"
     ]
    }
   ],
   "source": [
    "# Choosing C parameter for Logistic Regression AND type of penalty (ie., l1 vs l2)\n",
    "# See other parameters here http://scikit-learn.org/stable/modules/generated/sklearn.linear_model.LogisticRegression.html\n",
    "gs_lr2 = GridSearchCV(estimator=LogisticRegression(random_state=42, solver='liblinear'),\n",
    "                  param_grid=[{'C': [10 ,100, 1000, 10000, 100000, 1000000, 10000000],\n",
    "                              'penalty':['l1','l2']}],\n",
    "                  scoring='recall',\n",
    "                  cv=inner_cv)\n",
    "\n",
    "gs_lr2 = gs_lr2.fit(X,y)\n",
    "print(\"\\nParameter tunning and model evaluation using nested cross-validation for Logistic Regression\")\n",
    "print(\"Optimal Parameter: \", gs_lr2.best_params_)\n",
    "print(\"Optimal Estimator: \", gs_lr2.best_estimator_)\n",
    "nested_score_gs_lr2 = cross_val_score(gs_lr2, X=X, y=y, cv=outer_cv)\n",
    "print(\"Nested CV Recall:\",nested_score_gs_lr2.mean(), \" +/- \", nested_score_gs_lr2.std())"
   ]
  },
  {
   "cell_type": "code",
   "execution_count": 33,
   "id": "721c2665",
   "metadata": {},
   "outputs": [
    {
     "name": "stdout",
     "output_type": "stream",
     "text": [
      "\n",
      "Parameter tunning and model evaluation using nested cross-validation for KNN\n",
      "Optimal Score:  0.9533333333333334\n",
      "Optimal Parameter:  {'knn__n_neighbors': 9, 'knn__weights': 'uniform'}\n",
      "Optimal Estimator:  Pipeline(steps=[('sc', StandardScaler()),\n",
      "                ('knn', KNeighborsClassifier(n_neighbors=9))])\n",
      "Nested CV Recall:  0.9597837347837348  +/-  0.024512807875320976\n"
     ]
    }
   ],
   "source": [
    "#Normalize Data\n",
    "np.random.seed(42)\n",
    "pipe = Pipeline([\n",
    "        ('sc', StandardScaler()),\n",
    "        ('knn', KNeighborsClassifier(p=2,\n",
    "                                     metric='minkowski'))])\n",
    "\n",
    "#Parameters to optimize:  k for number of nearest neighbors AND type of distance\n",
    "\n",
    "params = {\n",
    "        'knn__n_neighbors': [1,3,5,7,9,11,13,15,17,19,21],\n",
    "        'knn__weights': ['uniform', 'distance']\n",
    "    }\n",
    "\n",
    "gs_knn2 = GridSearchCV(estimator=pipe,\n",
    "                  param_grid=params,\n",
    "                  scoring='recall',\n",
    "                  cv=inner_cv,\n",
    "                  n_jobs=4)\n",
    "\n",
    "gs_knn2 = gs_knn2.fit(X,y)\n",
    "print(\"\\nParameter tunning and model evaluation using nested cross-validation for KNN\")\n",
    "print(\"Optimal Score: \", gs_knn2.best_score_)\n",
    "print(\"Optimal Parameter: \", gs_knn2.best_params_)\n",
    "print(\"Optimal Estimator: \", gs_knn2.best_estimator_) # Estimator that was chosen by the search, i.e. estimator which gave highest score\n",
    "nested_score_gs_knn2 = cross_val_score(gs_knn2, X=X, y=y, cv=outer_cv)\n",
    "print(\"Nested CV Recall: \",nested_score_gs_knn2.mean(), \" +/- \", nested_score_gs_knn2.std())"
   ]
  },
  {
   "cell_type": "code",
   "execution_count": 34,
   "id": "0996dff2",
   "metadata": {},
   "outputs": [
    {
     "name": "stdout",
     "output_type": "stream",
     "text": [
      "\n",
      "Parameter tunning and model evaluation using nested cross-validation for the Decision Tree classifier\n",
      "Optimal Parameter:  {'criterion': 'gini', 'max_depth': 1, 'min_samples_split': 2, 'n_estimators': 500}\n",
      "Optimal Estimator:  RandomForestClassifier(max_depth=1, n_estimators=500, random_state=42)\n",
      "Nested CV Recall:  1.0  +/-  0.0\n"
     ]
    }
   ],
   "source": [
    "#Random Forest classifier\n",
    "# Choosing depth of the tree AND splitting criterion AND min_samples_leaf AND min_samples_split\n",
    "gs_dt2 = GridSearchCV(estimator=RandomForestClassifier(random_state=42),\n",
    "                  param_grid=[{'n_estimators': [100,500,1000],\n",
    "                               'max_depth': [1, 2, 3, 4, 5, 6, 7, None],\n",
    "                               'criterion':['gini','entropy'],\n",
    "                               'min_samples_split':[2,3,4,5]\n",
    "                              }\n",
    "                             ],\n",
    "                  scoring='recall',\n",
    "                  cv=inner_cv,\n",
    "                  n_jobs=4)\n",
    "\n",
    "gs_dt2 = gs_dt2.fit(X,y)\n",
    "print(\"\\nParameter tunning and model evaluation using nested cross-validation for the Decision Tree classifier\")\n",
    "print(\"Optimal Parameter: \", gs_dt2.best_params_)\n",
    "print(\"Optimal Estimator: \", gs_dt2.best_estimator_)\n",
    "nested_score_gs_dt2 = cross_val_score(gs_dt2, X=X, y=y, cv=outer_cv)\n",
    "print(\"Nested CV Recall: \",nested_score_gs_dt2.mean(), \" +/- \", nested_score_gs_dt2.std())"
   ]
  },
  {
   "cell_type": "markdown",
   "id": "3ec64985",
   "metadata": {},
   "source": [
    "### Model evaluation for models with best parameters"
   ]
  },
  {
   "cell_type": "code",
   "execution_count": 44,
   "id": "e7545b31",
   "metadata": {},
   "outputs": [],
   "source": [
    "#function to visualize the confusion mattrix\n",
    "def plot_confusion_matrix(y_true, y_pred):\n",
    "    confusion_mat = confusion_matrix(y_true, y_pred)\n",
    "    # Create a heatmap for the confusion matrix\n",
    "    plt.figure(figsize=(3, 2))\n",
    "    sns.set(font_scale=1.2)  # Adjust the font scale for readability\n",
    "    sns.heatmap(confusion_mat, annot=True, fmt='d', cmap='Blues', cbar=False)\n",
    "    plt.xlabel('Predicted')\n",
    "    plt.ylabel('True')\n",
    "    plt.title('Confusion Matrix')\n",
    "    plt.show()\n",
    "\n",
    "\n",
    "#function to evaluate the classifier\n",
    "def evaluate_classifier(y_true, y_pred):\n",
    "    # Calculate and print classification report\n",
    "    report = classification_report(y_true, y_pred)\n",
    "    print(\"Classification Report:\\n\", report)"
   ]
  },
  {
   "cell_type": "code",
   "execution_count": 45,
   "id": "b82438ac",
   "metadata": {},
   "outputs": [
    {
     "data": {
      "image/png": "[encoded data removed]",
      "text/plain": [
       "<Figure size 300x200 with 1 Axes>"
      ]
     },
     "metadata": {},
     "output_type": "display_data"
    }
   ],
   "source": [
    "#Decision tree classifier\n",
    "decision_tree = DecisionTreeClassifier(criterion='entropy', max_depth=4, random_state=42)\n",
    "#decision_tree.fit(X,y, c)\n",
    "predicted_labels = cross_val_predict(decision_tree, X, y, cv=10)\n",
    "# Plot the confusion matrix using Seaborn\n",
    "plot_confusion_matrix(y, predicted_labels)"
   ]
  },
  {
   "cell_type": "code",
   "execution_count": 46,
   "id": "978077ff",
   "metadata": {},
   "outputs": [
    {
     "name": "stdout",
     "output_type": "stream",
     "text": [
      "Classification Report:\n",
      "               precision    recall  f1-score   support\n",
      "\n",
      "           0       1.00      1.00      1.00       121\n",
      "           1       1.00      1.00      1.00       125\n",
      "\n",
      "    accuracy                           1.00       246\n",
      "   macro avg       1.00      1.00      1.00       246\n",
      "weighted avg       1.00      1.00      1.00       246\n",
      "\n"
     ]
    }
   ],
   "source": [
    "evaluate_classifier(y, predicted_labels)"
   ]
  },
  {
   "cell_type": "code",
   "execution_count": 47,
   "id": "8e80a76d",
   "metadata": {},
   "outputs": [
    {
     "data": {
      "image/png": "[encoded data removed]",
      "text/plain": [
       "<Figure size 300x200 with 1 Axes>"
      ]
     },
     "metadata": {},
     "output_type": "display_data"
    }
   ],
   "source": [
    "#Logistic Regression classifier\n",
    "LR = LogisticRegression(C=1, penalty='l1', random_state=42, solver='liblinear')\n",
    "predicted_labels = cross_val_predict(LR, X, y, cv=10)\n",
    "# Plot the confusion matrix using Seaborn\n",
    "plot_confusion_matrix(y, predicted_labels)"
   ]
  },
  {
   "cell_type": "code",
   "execution_count": 48,
   "id": "de68b115",
   "metadata": {},
   "outputs": [
    {
     "name": "stdout",
     "output_type": "stream",
     "text": [
      "Classification Report:\n",
      "               precision    recall  f1-score   support\n",
      "\n",
      "           0       1.00      1.00      1.00       121\n",
      "           1       1.00      1.00      1.00       125\n",
      "\n",
      "    accuracy                           1.00       246\n",
      "   macro avg       1.00      1.00      1.00       246\n",
      "weighted avg       1.00      1.00      1.00       246\n",
      "\n"
     ]
    }
   ],
   "source": [
    "evaluate_classifier(y, predicted_labels)"
   ]
  },
  {
   "cell_type": "code",
   "execution_count": 49,
   "id": "10b7dbe4",
   "metadata": {},
   "outputs": [
    {
     "data": {
      "image/png": "[encoded data removed]",
      "text/plain": [
       "<Figure size 300x200 with 1 Axes>"
      ]
     },
     "metadata": {},
     "output_type": "display_data"
    }
   ],
   "source": [
    "knn = Pipeline([\n",
    "        ('sc', StandardScaler()),\n",
    "        ('knn', KNeighborsClassifier(n_neighbors=9,\n",
    "                                     metric='minkowski'))\n",
    "      ])\n",
    "predicted_labels = cross_val_predict(knn, X, y, cv=10)\n",
    "# Plot the confusion matrix using Seaborn\n",
    "plot_confusion_matrix(y, predicted_labels)"
   ]
  },
  {
   "cell_type": "code",
   "execution_count": 50,
   "id": "93de202f",
   "metadata": {},
   "outputs": [
    {
     "name": "stdout",
     "output_type": "stream",
     "text": [
      "Classification Report:\n",
      "               precision    recall  f1-score   support\n",
      "\n",
      "           0       0.91      0.74      0.81       121\n",
      "           1       0.78      0.93      0.85       125\n",
      "\n",
      "    accuracy                           0.83       246\n",
      "   macro avg       0.85      0.83      0.83       246\n",
      "weighted avg       0.84      0.83      0.83       246\n",
      "\n"
     ]
    }
   ],
   "source": [
    "evaluate_classifier(y, predicted_labels)"
   ]
  },
  {
   "cell_type": "code",
   "execution_count": 53,
   "id": "22a6d929",
   "metadata": {},
   "outputs": [
    {
     "data": {
      "image/png": "[encoded data removed]",
      "text/plain": [
       "<Figure size 300x200 with 1 Axes>"
      ]
     },
     "metadata": {},
     "output_type": "display_data"
    }
   ],
   "source": [
    "RF = RandomForestClassifier(max_depth=1, n_estimators=500, random_state=42)\n",
    "predicted_labels = cross_val_predict(RF, X, y, cv=10)\n",
    "# Plot the confusion matrix using Seaborn\n",
    "plot_confusion_matrix(y, predicted_labels)"
   ]
  },
  {
   "cell_type": "code",
   "execution_count": 54,
   "id": "b089c62a",
   "metadata": {},
   "outputs": [
    {
     "name": "stdout",
     "output_type": "stream",
     "text": [
      "Classification Report:\n",
      "               precision    recall  f1-score   support\n",
      "\n",
      "           0       1.00      1.00      1.00       121\n",
      "           1       1.00      1.00      1.00       125\n",
      "\n",
      "    accuracy                           1.00       246\n",
      "   macro avg       1.00      1.00      1.00       246\n",
      "weighted avg       1.00      1.00      1.00       246\n",
      "\n"
     ]
    }
   ],
   "source": [
    "evaluate_classifier(y, predicted_labels)"
   ]
  },
  {
   "cell_type": "markdown",
   "id": "75b05ed1",
   "metadata": {},
   "source": []
  },
  {
   "cell_type": "code",
   "execution_count": null,
   "id": "b5cb7d9f",
   "metadata": {},
   "outputs": [],
   "source": []
  }
 ],
 "metadata": {
  "kernelspec": {
   "display_name": "Python 3 (ipykernel)",
   "language": "python",
   "name": "python3"
  },
  "language_info": {
   "codemirror_mode": {
    "name": "ipython",
    "version": 3
   },
   "file_extension": ".py",
   "mimetype": "text/x-python",
   "name": "python",
   "nbconvert_exporter": "python",
   "pygments_lexer": "ipython3",
   "version": "3.11.3"
  }
 },
 "nbformat": 4,
 "nbformat_minor": 5
}
